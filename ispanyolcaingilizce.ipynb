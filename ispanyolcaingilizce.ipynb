{
 "cells": [
  {
   "cell_type": "code",
   "execution_count": 6,
   "id": "d03e24ca-91a9-4dc9-be0c-5fcdc8ae760d",
   "metadata": {},
   "outputs": [
    {
     "name": "stdout",
     "output_type": "stream",
     "text": [
      "1. İspanyolca kelimenin İngilizce karşılığını çevir\n",
      "2. Sözlükteki bir kelimenin İngilizce anlamını güncelle\n",
      "3. Yeni bir İspanyolca kelimeyi İngilizce anlamıyla ekle..\n",
      "4. Çeviri sonlandı\n"
     ]
    },
    {
     "name": "stdout",
     "output_type": "stream",
     "text": [
      "Bir seçenek seçin (1/2/3/4):  1\n",
      "İspanyolca kelimeyi girin:  familia\n"
     ]
    },
    {
     "name": "stdout",
     "output_type": "stream",
     "text": [
      "İngilizce Karşılığı: family\n",
      "1. İspanyolca kelimenin İngilizce karşılığını çevir\n",
      "2. Sözlükteki bir kelimenin İngilizce anlamını güncelle\n",
      "3. Yeni bir İspanyolca kelimeyi İngilizce anlamıyla ekle..\n",
      "4. Çeviri sonlandı\n"
     ]
    },
    {
     "name": "stdout",
     "output_type": "stream",
     "text": [
      "Bir seçenek seçin (1/2/3/4):  4\n"
     ]
    },
    {
     "name": "stdout",
     "output_type": "stream",
     "text": [
      "çeviri sonlandı\n"
     ]
    }
   ],
   "source": [
    "# İspanyolca-İngilizce sözlük oluşturma..\n",
    "\n",
    "import json\n",
    "words_dict={\"auto\": \"car\",\n",
    "      \"computadora\": \"computer\",\n",
    "      \"alumno\": \"student\", \n",
    "      \"libro\": \"book\",\n",
    "      \"casa\": \"home\",\n",
    "      \"perro\": \"dog\",\n",
    "      \"gato\": \"cat\", \n",
    "      \"sol\": \"sun\",\n",
    "      \"lluvia\": \"rain\",\n",
    "       \"familia\": \"family\" }\n",
    "\n",
    "# JSON dosyasına yazdırma..\n",
    "with open('words_dict.json', 'w') as dosya:   #'w' write dosyayı yazma işleminiyapıyorum\n",
    "    json.dump(words_dict, dosya) # verileri dosyaya ekledim..\n",
    "\n",
    "#print(\"JSON dosyasnı oluşturdum words_dict.json\")\n",
    "\n",
    "#import json\n",
    "\n",
    "\n",
    "#words_dict bulunan kelimelerin çevisini yapma..\n",
    "def kelime_cevir():\n",
    "    kelime_ispanyolca = input(\"İspanyolca kelimeyi girin: \")\n",
    "    \n",
    "    with open('words_dict.json', 'r') as dosya:  #'r' read dosyayı okuma işlemini yapıyorum..\n",
    "        words_dict= json.load(dosya)\n",
    "        \n",
    "        if kelime_ispanyolca in words_dict:\n",
    "            print(\"İngilizce Karşılığı:\", words_dict[kelime_ispanyolca])     \n",
    "        else:\n",
    "            print(\"Bu kelimenin İngilizce karşılığı sözlükte bulunmamaktadır.\")\n",
    "\n",
    "#words_dict bulunan ispanyolca kelimenin ingilizce karşılığını değiştirme(güncelleme) işlemi..\n",
    "\n",
    "def kelime_guncelle():\n",
    "    kelime_ispanyolca = input(\"Güncellenecek İspanyolca kelimeyi girin: \")\n",
    "    \n",
    "    with open('words_dict.json', 'r') as dosya: #tekrardan json dosyamda okuma yapıyorum..\n",
    "        words_dict = json.load(dosya)\n",
    " #eğer kelimem words_dict yer alıyorsa o kelimeye yeni bir karşılığı kullanıcıdan alıyorum..       \n",
    "        if kelime_ispanyolca in words_dict:\n",
    "            kelime_ingilizce = input(\"Yeni İngilizce karşılığı girin: \")\n",
    "            words_dict[kelime_ispanyolca] = kelime_ingilizce\n",
    "  #yeni anlamını ekleme işlemini yapıyorum..          \n",
    "            with open('words_dict.json', 'w') as dosya:\n",
    "                json.dump(words_dict, dosya)\n",
    "                \n",
    "                print(\"Kelimenin İngilizce karşılığı başarıyla güncellendi ve JSON dosyası güncellendi.\")\n",
    "        else:\n",
    "            print(\"Bu kelime sözlükte bulunmamaktadır.\")      \n",
    "            \n",
    "            \n",
    "            \n",
    "def kelime_ekle():\n",
    "    kelime_ispanyolca = input(\"Yeni bir İspanyolca kelime girin: \")\n",
    "    kelime_ingilizce = input(\"İngilizce karşılığını girin: \")\n",
    "\n",
    "    with open('words_dict.json', 'r') as dosya:\n",
    "        words_dict = json.load(dosya)\n",
    "\n",
    "    words_dict[kelime_ispanyolca] = kelime_ingilizce\n",
    "    \n",
    "\n",
    "    with open('words_dict.json', 'w') as dosya:\n",
    "    \n",
    "   \n",
    "        json.dump(words_dict, dosya)\n",
    "\n",
    "    print(kelime_ispanyolca + \"kelimesi İngilizce karşılığıyla birlikte sözlüğe eklendi.\")\n",
    "           \n",
    "       \n",
    "        \n",
    "        \n",
    "while True:\n",
    "    print(\"1. İspanyolca kelimenin İngilizce karşılığını çevir\")\n",
    "    print(\"2. Sözlükteki bir kelimenin İngilizce anlamını güncelle\")\n",
    "    print(\"3. Yeni bir İspanyolca kelimeyi İngilizce anlamıyla ekle..\")\n",
    "    print(\"4. Çeviri sonlandı\")\n",
    "    \n",
    "    secenek= input(\"Bir seçenek seçin (1/2/3/4): \")\n",
    "    \n",
    "    if secenek == '1':\n",
    "        kelime_cevir()\n",
    "    elif secenek == '2':\n",
    "        kelime_guncelle()\n",
    "    elif secenek== '3':\n",
    "        kelime_ekle()\n",
    "    elif secenek == '4':\n",
    "        print(\"çeviri sonlandı\")\n",
    "        break\n",
    "    else:\n",
    "        print(\"Geçersiz bir seçim yaptınız.\")\n",
    "        "
   ]
  },
  {
   "cell_type": "markdown",
   "id": "64efc533",
   "metadata": {},
   "source": []
  },
  {
   "cell_type": "code",
   "execution_count": null,
   "id": "2eb55ea8",
   "metadata": {},
   "outputs": [],
   "source": []
  },
  {
   "cell_type": "code",
   "execution_count": null,
   "id": "19f45b07-eea4-444c-8cac-4a0d821d972b",
   "metadata": {},
   "outputs": [],
   "source": []
  }
 ],
 "metadata": {
  "kernelspec": {
   "display_name": "Python 3 (ipykernel)",
   "language": "python",
   "name": "python3"
  },
  "language_info": {
   "codemirror_mode": {
    "name": "ipython",
    "version": 3
   },
   "file_extension": ".py",
   "mimetype": "text/x-python",
   "name": "python",
   "nbconvert_exporter": "python",
   "pygments_lexer": "ipython3",
   "version": "3.9.12"
  },
  "toc-autonumbering": true,
  "toc-showmarkdowntxt": true,
  "toc-showtags": false
 },
 "nbformat": 4,
 "nbformat_minor": 5
}
